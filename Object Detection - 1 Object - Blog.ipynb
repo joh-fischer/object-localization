{
 "cells": [
  {
   "cell_type": "markdown",
   "metadata": {
    "id": "aeNTl2MUfNHn"
   },
   "source": [
    "# Simple Object Detection using Python\n",
    "**Author**: Johannes S. Fischer"
   ]
  },
  {
   "cell_type": "code",
   "execution_count": 1,
   "metadata": {},
   "outputs": [],
   "source": [
    "save_figures = True"
   ]
  },
  {
   "cell_type": "markdown",
   "metadata": {},
   "source": [
    "In the past days I worked myself into object detection with neural networks. For simplicity, I decided to start with a simple task: detect a bounding box of one single rectangle on a neutral background. This has the advantages that I can generate the data set myself and the images are not too complex. Let's start!"
   ]
  },
  {
   "cell_type": "markdown",
   "metadata": {},
   "source": [
    "## The Task\n",
    "\n",
    "The network gets as input a $n \\times n$ image with black background and a green rectangle and will predict the target vector $(x, y, w, h)$, where x and y denote the top-left corner of the rectangle and $w$ and $h$ are the width and height of it, respectively. This is further illustrated in the following image, with $n=8$:"
   ]
  },
  {
   "cell_type": "code",
   "execution_count": 2,
   "metadata": {},
   "outputs": [
    {
     "name": "stdout",
     "output_type": "stream",
     "text": [
      "(2, 2, 3, 3)\n"
     ]
    },
    {
     "data": {
      "image/png": "[encoded data removed]",
      "text/plain": [
       "<Figure size 432x288 with 1 Axes>"
      ]
     },
     "metadata": {
      "needs_background": "light"
     },
     "output_type": "display_data"
    }
   ],
   "source": [
    "import numpy as np\n",
    "import matplotlib.pyplot as plt\n",
    "import cv2\n",
    "\n",
    "n = 8\n",
    "\n",
    "x = 2\n",
    "y = 2\n",
    "w = 3\n",
    "h = 3\n",
    "\n",
    "img = np.zeros((n, n, 3), dtype=\"uint8\")\n",
    "cv2.rectangle(img, (x,y), (x+w,y+h), (0, 255, 0), -1)\n",
    "plt.imshow(img, interpolation=\"nearest\")\n",
    "ax = plt.gca()\n",
    "ax.set_xticks(np.arange(-.5, n, 1))\n",
    "ax.set_yticks(np.arange(-.5, n, 1))\n",
    "ax.set_xticklabels(np.arange(0, n+1, 1))\n",
    "ax.set_yticklabels(np.arange(0, n+1, 1))\n",
    "ax.grid(color='white', linestyle='-', linewidth=0.5)\n",
    "print((x, y, w, h))\n",
    "\n",
    "if save_figures:\n",
    "    plt.savefig('example-image1.png', dpi=300, bbox_inches='tight')\n",
    "plt.show()"
   ]
  },
  {
   "cell_type": "markdown",
   "metadata": {
    "id": "CW-Fn86HfTk1"
   },
   "source": [
    "## Create Data\n",
    "With an image size of 8 the possibilities for a rectangle would be quite limited. Therefore, I decided to set the size to 64, which easily allows to draw 40.000 samples. The minimum size for the rectangle is set to 8. I will use standard libraries, such as numpy, pyplot, and OpenCV."
   ]
  },
  {
   "cell_type": "code",
   "execution_count": 3,
   "metadata": {},
   "outputs": [],
   "source": [
    "import numpy as np\n",
    "import matplotlib.pyplot as plt\n",
    "import cv2\n",
    "\n",
    "# dataset settings\n",
    "n_samples = 40000\n",
    "image_size = 64\n",
    "min_size = 8"
   ]
  },
  {
   "cell_type": "markdown",
   "metadata": {},
   "source": [
    "The images will be stored in a numpy array $X$ with the dimensions (40000, 64, 64, 3), where 40.000 refers to the number of images, 64 to the image width and height, and 3 to the number of color channels (RGB). The target vector for one image has four elements (x, y, width, height). Thus, $Y$ has the dimensions (40000, 4)."
   ]
  },
  {
   "cell_type": "code",
   "execution_count": 4,
   "metadata": {},
   "outputs": [],
   "source": [
    "X = np.zeros((n_samples, image_size, image_size, 3), dtype=\"uint8\")\n",
    "Y = np.zeros((n_samples, 4))"
   ]
  },
  {
   "cell_type": "markdown",
   "metadata": {},
   "source": [
    "The creation of the images works as follows:"
   ]
  },
  {
   "cell_type": "code",
   "execution_count": 5,
   "metadata": {},
   "outputs": [],
   "source": [
    "for sample in range(n_samples):\n",
    "    # create image\n",
    "    img = np.zeros((image_size, image_size, 3), dtype=\"uint8\")\n",
    "    \n",
    "    # get random x and y coordinate\n",
    "    x = np.random.randint(0, image_size - min_size)\n",
    "    y = np.random.randint(0, image_size - min_size)\n",
    "    \n",
    "    # get random width and height\n",
    "    w = np.random.randint(min_size, image_size - x)\n",
    "    h = np.random.randint(min_size, image_size - y)\n",
    "\n",
    "    # assign target vector to sample\n",
    "    Y[sample] = [x, y, w, h]\n",
    "\n",
    "    # draw rectangle on image\n",
    "    cv2.rectangle(img, (x,y), (x+w,y+h), (0, 255, 0), -1)\n",
    "    X[sample] = img"
   ]
  },
  {
   "cell_type": "markdown",
   "metadata": {},
   "source": [
    "To inspect what we've done so far, lets plot the first 10 images:"
   ]
  },
  {
   "cell_type": "code",
   "execution_count": 6,
   "metadata": {
    "scrolled": true
   },
   "outputs": [
    {
     "data": {
      "image/png": "[encoded data removed]",
      "text/plain": [
       "<Figure size 864x288 with 10 Axes>"
      ]
     },
     "metadata": {
      "needs_background": "light"
     },
     "output_type": "display_data"
    }
   ],
   "source": [
    "plt.figure(figsize=(12, 4))\n",
    "for i in range(10):\n",
    "    plt.subplot(2, 5, i+1)\n",
    "    plt.imshow(X[i])\n",
    "\n",
    "if save_figures:\n",
    "    plt.savefig('blog images/first-10-1.png', dpi=300, bbox_inches='tight')\n",
    "plt.show()"
   ]
  },
  {
   "cell_type": "markdown",
   "metadata": {},
   "source": [
    "## Prepare Data\n",
    "First of all, I will normalize the input data to be centered around 0. The RGB values are within 0 and 255. Hence, I can just divide the feature tensor by 255, so that all values are within 0 to 1 and can then subtract 0.5, to center the values."
   ]
  },
  {
   "cell_type": "code",
   "execution_count": 7,
   "metadata": {},
   "outputs": [],
   "source": [
    "# normalize images\n",
    "X = X.astype(\"float32\") / 255\n",
    "# center pixel values\n",
    "X = X - 0.5"
   ]
  },
  {
   "cell_type": "markdown",
   "metadata": {},
   "source": [
    "Furthermore, I split the data into a training, validation, and test set, using sklearn's train_test_split function."
   ]
  },
  {
   "cell_type": "code",
   "execution_count": 8,
   "metadata": {},
   "outputs": [
    {
     "name": "stdout",
     "output_type": "stream",
     "text": [
      "Shape X train:\t   (25600, 64, 64, 3)\n",
      "Shape X validate:  (6400, 64, 64, 3)\n",
      "Shape X test:\t   (8000, 64, 64, 3)\n"
     ]
    }
   ],
   "source": [
    "from sklearn.model_selection import train_test_split\n",
    "\n",
    "X_train_val, X_test, Y_train_val, Y_test = train_test_split(X, Y, test_size=0.2)\n",
    "\n",
    "# further split train_val\n",
    "X_train, X_val, Y_train, Y_val = train_test_split(X_train_val, Y_train_val, test_size=0.2, random_state=29)\n",
    "\n",
    "print(\"Shape X train:\\t  \", X_train.shape)\n",
    "print(\"Shape X validate: \", X_val.shape)\n",
    "print(\"Shape X test:\\t  \", X_test.shape)"
   ]
  },
  {
   "cell_type": "markdown",
   "metadata": {},
   "source": [
    "## Convolutional Neural Network\n",
    "Now it's time to build the model that can predict the four parameters for each image describing the rectangle $(x, y, w, h)$. I use the Keras Sequential class as I will only use a linear stack of layers."
   ]
  },
  {
   "cell_type": "code",
   "execution_count": 9,
   "metadata": {},
   "outputs": [],
   "source": [
    "from tensorflow.keras.models import Sequential\n",
    "from tensorflow.keras.layers import Conv2D, MaxPooling2D, Dense\n",
    "from tensorflow.keras.layers import Flatten, Dropout\n",
    "\n",
    "model = Sequential([\n",
    "    Conv2D( 32, kernel_size=3, activation=\"relu\",\n",
    "           input_shape=(image_size, image_size, 3)),\n",
    "    MaxPooling2D( pool_size=2),\n",
    "    Conv2D( 32, kernel_size=3, activation=\"relu\"),\n",
    "    MaxPooling2D( pool_size=2),\n",
    "    Flatten(),\n",
    "    Dropout(0.5),\n",
    "    Dense(4)\n",
    "])\n",
    "\n",
    "model.compile(\"adam\", loss=\"mse\", metrics=[\"accuracy\"])"
   ]
  },
  {
   "cell_type": "markdown",
   "metadata": {},
   "source": [
    "The model is kept simple, with two blocks consisting of a convolutional layer, followed by a max pooling layer. Finally, the input is flattened and connected to a dense layer with 4 nodes, which represent the target vector (x, y, w, h)."
   ]
  },
  {
   "cell_type": "markdown",
   "metadata": {},
   "source": [
    "I use Adam as Optimizer and as loss the mean squared error, as the target is rather continuous."
   ]
  },
  {
   "cell_type": "markdown",
   "metadata": {},
   "source": [
    "Time to start the training!"
   ]
  },
  {
   "cell_type": "code",
   "execution_count": 10,
   "metadata": {},
   "outputs": [
    {
     "name": "stdout",
     "output_type": "stream",
     "text": [
      "Epoch 1/18\n",
      "800/800 [==============================] - 13s 10ms/step - loss: 75.7384 - accuracy: 0.7206 - val_loss: 18.0553 - val_accuracy: 0.8967\n",
      "Epoch 2/18\n",
      "800/800 [==============================] - 8s 10ms/step - loss: 15.2114 - accuracy: 0.8996 - val_loss: 5.8563 - val_accuracy: 0.9489\n",
      "Epoch 3/18\n",
      "800/800 [==============================] - 7s 9ms/step - loss: 9.7855 - accuracy: 0.9205 - val_loss: 3.9868 - val_accuracy: 0.9523\n",
      "Epoch 4/18\n",
      "800/800 [==============================] - 8s 9ms/step - loss: 8.1445 - accuracy: 0.9315 - val_loss: 3.6387 - val_accuracy: 0.9605\n",
      "Epoch 5/18\n",
      "800/800 [==============================] - 7s 9ms/step - loss: 7.1980 - accuracy: 0.9343 - val_loss: 3.1780 - val_accuracy: 0.9627\n",
      "Epoch 6/18\n",
      "800/800 [==============================] - 8s 9ms/step - loss: 6.6886 - accuracy: 0.9368 - val_loss: 2.8331 - val_accuracy: 0.9631\n",
      "Epoch 7/18\n",
      "800/800 [==============================] - 7s 9ms/step - loss: 6.0726 - accuracy: 0.9416 - val_loss: 2.3337 - val_accuracy: 0.9600\n",
      "Epoch 8/18\n",
      "800/800 [==============================] - 7s 9ms/step - loss: 5.7781 - accuracy: 0.9423 - val_loss: 1.8538 - val_accuracy: 0.9698\n",
      "Epoch 9/18\n",
      "800/800 [==============================] - 7s 9ms/step - loss: 5.5578 - accuracy: 0.9424 - val_loss: 1.8329 - val_accuracy: 0.9680\n",
      "Epoch 10/18\n",
      "800/800 [==============================] - 8s 9ms/step - loss: 5.3348 - accuracy: 0.9456 - val_loss: 1.6978 - val_accuracy: 0.9634\n",
      "Epoch 11/18\n",
      "800/800 [==============================] - 8s 9ms/step - loss: 5.1655 - accuracy: 0.9451 - val_loss: 1.5862 - val_accuracy: 0.9698\n",
      "Epoch 12/18\n",
      "800/800 [==============================] - 8s 9ms/step - loss: 5.0539 - accuracy: 0.9481 - val_loss: 1.3156 - val_accuracy: 0.9698\n",
      "Epoch 13/18\n",
      "800/800 [==============================] - 8s 9ms/step - loss: 4.9345 - accuracy: 0.9479 - val_loss: 1.4004 - val_accuracy: 0.9714\n",
      "Epoch 14/18\n",
      "800/800 [==============================] - 8s 10ms/step - loss: 4.9083 - accuracy: 0.9482 - val_loss: 1.1829 - val_accuracy: 0.9683\n",
      "Epoch 15/18\n",
      "800/800 [==============================] - 7s 9ms/step - loss: 4.7664 - accuracy: 0.9495 - val_loss: 1.2635 - val_accuracy: 0.9758\n",
      "Epoch 16/18\n",
      "800/800 [==============================] - 7s 9ms/step - loss: 4.6811 - accuracy: 0.9496 - val_loss: 1.3451 - val_accuracy: 0.9795\n",
      "Epoch 17/18\n",
      "800/800 [==============================] - 7s 9ms/step - loss: 4.6544 - accuracy: 0.9501 - val_loss: 0.9589 - val_accuracy: 0.9747\n",
      "Epoch 18/18\n",
      "800/800 [==============================] - 7s 9ms/step - loss: 4.5757 - accuracy: 0.9507 - val_loss: 1.0342 - val_accuracy: 0.9722\n",
      "Wall time: 2min 24s\n"
     ]
    }
   ],
   "source": [
    "%%time\n",
    "epochs = 18\n",
    "history = model.fit(X_train, Y_train,\n",
    "                    epochs=epochs,\n",
    "                    validation_data=(X_val, Y_val))"
   ]
  },
  {
   "cell_type": "markdown",
   "metadata": {},
   "source": [
    "With my setup (GPU: Nvidia GeForce GTX 1050 Ti, CPU: Intel i5-3470) the training takes about 2 minutes and 26 seconds."
   ]
  },
  {
   "cell_type": "markdown",
   "metadata": {},
   "source": [
    "## Results\n",
    "When plotting the history of the training process I get the following results:"
   ]
  },
  {
   "cell_type": "code",
   "execution_count": 11,
   "metadata": {},
   "outputs": [
    {
     "data": {
      "image/png": "[encoded data removed]",
      "text/plain": [
       "<Figure size 864x288 with 2 Axes>"
      ]
     },
     "metadata": {
      "needs_background": "light"
     },
     "output_type": "display_data"
    }
   ],
   "source": [
    "plt.figure(figsize=(12, 4))\n",
    "# Accuracy\n",
    "plt.subplot(1, 2, 1)\n",
    "plt.plot(np.arange(epochs), history.history['accuracy'], label='Training')\n",
    "plt.plot(np.arange(epochs), history.history['val_accuracy'], label='Validation')\n",
    "plt.title(\"Accuracy\")\n",
    "plt.legend()\n",
    "# Loss\n",
    "plt.subplot(1, 2, 2)\n",
    "plt.plot(np.arange(epochs), history.history['loss'], label='Training')\n",
    "plt.plot(np.arange(epochs), history.history['val_loss'], label='Validation')\n",
    "plt.title(\"Loss\")\n",
    "plt.legend()\n",
    "\n",
    "if save_figures:\n",
    "    plt.savefig('blog images/training-validation-1.png', dpi=300,\n",
    "                bbox_inches='tight')\n",
    "    \n",
    "plt.show()"
   ]
  },
  {
   "cell_type": "markdown",
   "metadata": {},
   "source": [
    "Let's evaluate the model on (unseen) test data."
   ]
  },
  {
   "cell_type": "code",
   "execution_count": 12,
   "metadata": {},
   "outputs": [
    {
     "name": "stdout",
     "output_type": "stream",
     "text": [
      "250/250 [==============================] - 1s 4ms/step - loss: 1.0525 - accuracy: 0.9772\n",
      "Accuracy: 0.9772\n",
      "Loss: 1.0525\n"
     ]
    }
   ],
   "source": [
    "loss, acc = model.evaluate(X_test, Y_test)\n",
    "print(\"Accuracy: %.4f\"%acc)\n",
    "print(\"Loss: %.4f\"%loss)"
   ]
  },
  {
   "cell_type": "markdown",
   "metadata": {},
   "source": [
    "An accuracy of about 97% seems quite good for such a simple model. However, accuracy itself may not be an appropriate indicator of how well the bounding boxes are predicted. So let's consider another measure, namely the Intersection over Union (IoU)."
   ]
  },
  {
   "cell_type": "markdown",
   "metadata": {},
   "source": [
    "In short: The Intersection over Union measures the overlap between two bounding boxes. A value of 1 indicates perfect prediction, while lower values suggest a poor accuracy."
   ]
  },
  {
   "cell_type": "markdown",
   "metadata": {},
   "source": [
    "For a more intuitive understanding let's have a look at an example. In the picture below two rectangles A (green) and B (blue) are displayed. A has a width and height of 7 and starts at (3, 3), while B has a width and height of 6 and starts at (7, 7)."
   ]
  },
  {
   "cell_type": "code",
   "execution_count": 13,
   "metadata": {},
   "outputs": [],
   "source": [
    "def computeIoU(bbox1, bbox2):\n",
    "    (x1, y1, w1, h1) = bbox1\n",
    "    (x2, y2, w2, h2) = bbox2\n",
    "    \n",
    "    # area of both rectangles\n",
    "    area1 = (w1+1) * (h1+1)\n",
    "    area2 = (w2+1) * (h2+1)\n",
    "    \n",
    "    # intersection rectangle coordinates\n",
    "    inter_x1 = np.max((x1, x2))\n",
    "    inter_y1 = np.max((y1, y2))\n",
    "    inter_x2 = np.min((x1 + w1, x2 + w2))\n",
    "    inter_y2 = np.min((y1 + h1, y2 + h2))\n",
    "    \n",
    "    # intersection rectangle width and height\n",
    "    inter_w = np.max( (0, inter_x2 - inter_x1 +1) )\n",
    "    inter_h = np.max( (0, inter_y2 - inter_y1 +1) )\n",
    "        \n",
    "    if inter_w <= 0 or inter_h <= 0:\n",
    "        return 0.0\n",
    "    \n",
    "    # intersection area\n",
    "    inter_area = inter_w * inter_h\n",
    "    \n",
    "    # return iou\n",
    "    return inter_area / float(area1 + area2 - inter_area)"
   ]
  },
  {
   "cell_type": "code",
   "execution_count": 14,
   "metadata": {},
   "outputs": [
    {
     "name": "stdout",
     "output_type": "stream",
     "text": [
      "IoU: 0.1184\n"
     ]
    },
    {
     "data": {
      "image/png": "[encoded data removed]",
      "text/plain": [
       "<Figure size 432x288 with 1 Axes>"
      ]
     },
     "metadata": {
      "needs_background": "light"
     },
     "output_type": "display_data"
    }
   ],
   "source": [
    "field_size = 16\n",
    "\n",
    "img = np.ones((field_size, field_size, 3), dtype=\"uint8\") * 255\n",
    "\n",
    "# rect 1\n",
    "x1, y1, w1, h1 = 3, 3, 6, 6\n",
    "cv2.rectangle(img, (x1,y1), (x1+w1,y1+h1), (0, 255, 0), -1)\n",
    "# rect 2\n",
    "x2, y2, w2, h2 = 7, 7, 5, 5\n",
    "cv2.rectangle(img, (x2,y2), (x2+w2,y2+h2), (0, 0, 255), -1)\n",
    "# intersection\n",
    "x3, y3, w3, h3 = 7, 7, 2, 2\n",
    "cv2.rectangle(img, (x3,y3), (x3+w3,y3+h3), (255, 0, 0), -1)\n",
    "\n",
    "# show image\n",
    "plt.imshow(img, interpolation=\"nearest\")\n",
    "\n",
    "# annotate\n",
    "plt.annotate(\"A\", (4, 2), color=\"black\", size=\"large\")\n",
    "plt.annotate(\"B\", (13, 10), color=\"black\", size=\"large\")\n",
    "ax = plt.gca()\n",
    "ax.set_xticks(np.arange(-.5, field_size, 1))\n",
    "ax.set_yticks(np.arange(-.5, field_size, 1))\n",
    "ax.set_xticklabels(np.arange(0, field_size+1, 1))\n",
    "ax.set_yticklabels(np.arange(0, field_size+1, 1))\n",
    "ax.grid(color='white', linestyle='-', linewidth=0.5)\n",
    "\n",
    "# compute iou\n",
    "IoU_example = computeIoU((x1, y1, w1, h1), (x2, y2, w2, h2))\n",
    "print(\"IoU: %.4f\"%IoU_example)\n",
    "\n",
    "if save_figures:\n",
    "    plt.savefig('blog images/iou-example.png', dpi=300,\n",
    "                bbox_inches='tight')\n",
    "plt.show()"
   ]
  },
  {
   "cell_type": "markdown",
   "metadata": {},
   "source": [
    "The IoU can now be described as the area of overlap divided by the area of the union. So: $IoU = \\frac{A \\cap B}{A \\cup B}$"
   ]
  },
  {
   "cell_type": "markdown",
   "metadata": {},
   "source": [
    "For our concrete example the intersecting area is $3 \\cdot 3 = 9$, the green area is $7 \\cdot 7 = 49$ and the blue area is $6 \\cdot 6 = 36$. The union of A and B is $49 + 36 - 9 = 76$ (area A + area B - intersection). Now we can compute the Intersection over Union by dividing the intersection through the union and we get an IoU of $9 / 76 = 0.1184$."
   ]
  },
  {
   "cell_type": "code",
   "execution_count": 15,
   "metadata": {},
   "outputs": [
    {
     "name": "stdout",
     "output_type": "stream",
     "text": [
      "Mean IoU over Test Set: 0.8293\n"
     ]
    }
   ],
   "source": [
    "# predict test set\n",
    "preds = model.predict(X_test)\n",
    "\n",
    "# compute mean IoU\n",
    "iou_all = []\n",
    "for i in range(len(Y_test)):\n",
    "    iou_all.append(computeIoU(Y_test[i], preds[i]))\n",
    "print(\"Mean IoU over Test Set: %.4f\"%(np.mean(iou_all)))"
   ]
  },
  {
   "cell_type": "markdown",
   "metadata": {},
   "source": [
    "Plot the first 10 predicted samples."
   ]
  },
  {
   "cell_type": "code",
   "execution_count": 16,
   "metadata": {},
   "outputs": [
    {
     "data": {
      "image/png": "[encoded data removed]",
      "text/plain": [
       "<Figure size 720x720 with 4 Axes>"
      ]
     },
     "metadata": {
      "needs_background": "light"
     },
     "output_type": "display_data"
    }
   ],
   "source": [
    "import matplotlib.patches as patches\n",
    "\n",
    "# return X to its normal values\n",
    "X_test_plot = X_test + 0.5\n",
    "X_test_plot = X_test_plot * 255\n",
    "X_test_plot = X_test_plot.astype(\"uint8\")\n",
    "\n",
    "# subplots\n",
    "plt.figure(figsize=(10, 10))\n",
    "for i in range(4):\n",
    "    ax = plt.subplot(2, 2, i+1)\n",
    "    # plot truth\n",
    "    ax.imshow(X_test_plot[i])\n",
    "    # plot estimate\n",
    "    rect = patches.Rectangle((preds[i, 0], preds[i, 1]), preds[i, 2], preds[i, 3],\n",
    "                             linewidth=2, edgecolor=\"r\", facecolor='none')\n",
    "    ax.add_patch(rect)\n",
    "    # annotate with iou\n",
    "    plt.annotate(\"%.2f\"%(computeIoU(preds[i], Y_test[i])),\n",
    "                 (preds[i, 0]+0.3, preds[i, 1]+2.6),\n",
    "                 color=\"red\", size=\"large\")\n",
    "    \n",
    "if save_figures:\n",
    "    plt.savefig('blog images/sample-detections-1.png', dpi=300,\n",
    "                bbox_inches='tight')\n",
    "plt.show()"
   ]
  },
  {
   "cell_type": "code",
   "execution_count": 17,
   "metadata": {},
   "outputs": [
    {
     "data": {
      "image/png": "[encoded data removed]",
      "text/plain": [
       "<Figure size 432x288 with 1 Axes>"
      ]
     },
     "metadata": {
      "needs_background": "light"
     },
     "output_type": "display_data"
    },
    {
     "name": "stdout",
     "output_type": "stream",
     "text": [
      "MSE:\t0.3546\n",
      "IoU:\t0.9107\n",
      "Estimate:\t [46.63  3.62 13.02 24.31]\n",
      "Truth:\t\t [47.  4. 12. 24.]\n"
     ]
    }
   ],
   "source": [
    "i = 1\n",
    "\n",
    "# Plotting\n",
    "fig, ax = plt.subplots()\n",
    "ax.imshow(X_test_plot[i])\n",
    "# add prediction\n",
    "rect = patches.Rectangle((preds[i, 0], preds[i, 1]), preds[i, 2], preds[i, 3],\n",
    "                         linewidth=2, edgecolor=\"r\", facecolor='none')\n",
    "ax.add_patch(rect)\n",
    "IoU = computeIoU(preds[i], Y_test[i])\n",
    "plt.annotate(\"%.2f\"%(IoU),\n",
    "             (preds[i, 0]-0.3, preds[i, 1]-0.5),\n",
    "             color=\"red\", size=\"large\")\n",
    "plt.show()\n",
    "\n",
    "import tensorflow as tf\n",
    "mse = float(tf.keras.metrics.mean_squared_error(preds[i], Y_test[i]))\n",
    "print(\"MSE:\\t%.4f\"%mse)\n",
    "print(\"IoU:\\t%.4f\"%IoU)\n",
    "print(\"Estimate:\\t\", np.round(preds[i], 2))\n",
    "print(\"Truth:\\t\\t\", Y_test[i])"
   ]
  },
  {
   "cell_type": "markdown",
   "metadata": {
    "id": "Ll3irzJe-mDh"
   },
   "source": [
    "---"
   ]
  }
 ],
 "metadata": {
  "accelerator": "TPU",
  "colab": {
   "collapsed_sections": [],
   "name": "MNIST CNN.ipynb",
   "provenance": []
  },
  "kernelspec": {
   "display_name": "Python 3 (ipykernel)",
   "language": "python",
   "name": "python3"
  },
  "language_info": {
   "codemirror_mode": {
    "name": "ipython",
    "version": 3
   },
   "file_extension": ".py",
   "mimetype": "text/x-python",
   "name": "python",
   "nbconvert_exporter": "python",
   "pygments_lexer": "ipython3",
   "version": "3.9.7"
  }
 },
 "nbformat": 4,
 "nbformat_minor": 1
}
